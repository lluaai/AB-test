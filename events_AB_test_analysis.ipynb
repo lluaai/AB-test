{
 "cells": [
  {
   "cell_type": "code",
   "execution_count": 45,
   "id": "56ef5202-d0b2-44b2-b270-327f748496a6",
   "metadata": {},
   "outputs": [],
   "source": [
    "import pandas as pd \n",
    "from scipy import stats\n",
    "import matplotlib.pyplot as plt \n",
    "from scipy.stats import mannwhitneyu, pearsonr, spearmanr\n",
    "import seaborn as sns\n",
    "from scipy.stats import shapiro"
   ]
  },
  {
   "cell_type": "code",
   "execution_count": 3,
   "id": "fbfa4968-1b6c-4f20-9499-0e05acead4cb",
   "metadata": {},
   "outputs": [],
   "source": [
    "df = pd.read_csv('events_AB_test.csv')"
   ]
  },
  {
   "cell_type": "markdown",
   "id": "c7557290-404c-4973-bf23-4a50c01bea72",
   "metadata": {},
   "source": [
    "### 1. Основные характеристики данных"
   ]
  },
  {
   "cell_type": "code",
   "execution_count": 6,
   "id": "282d3932-ca1c-4149-b520-c185dcf2c27b",
   "metadata": {},
   "outputs": [
    {
     "name": "stdout",
     "output_type": "stream",
     "text": [
      "      id group segment  events\n",
      "0  83440  test    high    78.0\n",
      "1  96723  test    high    71.0\n",
      "2  68719  test    high    80.0\n",
      "3  50399  test    high    80.0\n",
      "4  95613  test    high    78.0\n",
      "          id    group segment  events\n",
      "99995  60695  control     low    15.0\n",
      "99996   5934  control     low    16.0\n",
      "99997  30046  control     low    22.0\n",
      "99998  26474  control     low    21.0\n",
      "99999  42649  control     low    23.0\n"
     ]
    }
   ],
   "source": [
    "print(df.head())\n",
    "print(df.tail())"
   ]
  },
  {
   "cell_type": "code",
   "execution_count": 8,
   "id": "9d8b742a-1e75-4f96-b6c8-dfba6122f6ca",
   "metadata": {},
   "outputs": [
    {
     "data": {
      "text/plain": [
       "Index(['id', 'group', 'segment', 'events'], dtype='object')"
      ]
     },
     "execution_count": 8,
     "metadata": {},
     "output_type": "execute_result"
    }
   ],
   "source": [
    "df.columns"
   ]
  },
  {
   "cell_type": "code",
   "execution_count": 10,
   "id": "d138f3e5-16f5-4af5-9a8f-82cb63cc9135",
   "metadata": {},
   "outputs": [
    {
     "data": {
      "text/plain": [
       "id           int64\n",
       "group       object\n",
       "segment     object\n",
       "events     float64\n",
       "dtype: object"
      ]
     },
     "execution_count": 10,
     "metadata": {},
     "output_type": "execute_result"
    }
   ],
   "source": [
    "df.dtypes"
   ]
  },
  {
   "cell_type": "code",
   "execution_count": 12,
   "id": "86c4f96c-732c-40c5-95c6-011af2e952d6",
   "metadata": {},
   "outputs": [
    {
     "data": {
      "text/plain": [
       "100000"
      ]
     },
     "execution_count": 12,
     "metadata": {},
     "output_type": "execute_result"
    }
   ],
   "source": [
    "len(df)"
   ]
  },
  {
   "cell_type": "code",
   "execution_count": 14,
   "id": "a18e247d-5354-460c-b580-d37cdf9e2788",
   "metadata": {},
   "outputs": [
    {
     "data": {
      "text/html": [
       "<div>\n",
       "<style scoped>\n",
       "    .dataframe tbody tr th:only-of-type {\n",
       "        vertical-align: middle;\n",
       "    }\n",
       "\n",
       "    .dataframe tbody tr th {\n",
       "        vertical-align: top;\n",
       "    }\n",
       "\n",
       "    .dataframe thead th {\n",
       "        text-align: right;\n",
       "    }\n",
       "</style>\n",
       "<table border=\"1\" class=\"dataframe\">\n",
       "  <thead>\n",
       "    <tr style=\"text-align: right;\">\n",
       "      <th></th>\n",
       "      <th>id</th>\n",
       "      <th>events</th>\n",
       "    </tr>\n",
       "  </thead>\n",
       "  <tbody>\n",
       "    <tr>\n",
       "      <th>count</th>\n",
       "      <td>100000.000000</td>\n",
       "      <td>100000.000000</td>\n",
       "    </tr>\n",
       "    <tr>\n",
       "      <th>mean</th>\n",
       "      <td>49999.500000</td>\n",
       "      <td>34.213930</td>\n",
       "    </tr>\n",
       "    <tr>\n",
       "      <th>std</th>\n",
       "      <td>28867.657797</td>\n",
       "      <td>17.585193</td>\n",
       "    </tr>\n",
       "    <tr>\n",
       "      <th>min</th>\n",
       "      <td>0.000000</td>\n",
       "      <td>4.000000</td>\n",
       "    </tr>\n",
       "    <tr>\n",
       "      <th>25%</th>\n",
       "      <td>24999.750000</td>\n",
       "      <td>21.000000</td>\n",
       "    </tr>\n",
       "    <tr>\n",
       "      <th>50%</th>\n",
       "      <td>49999.500000</td>\n",
       "      <td>29.000000</td>\n",
       "    </tr>\n",
       "    <tr>\n",
       "      <th>75%</th>\n",
       "      <td>74999.250000</td>\n",
       "      <td>40.000000</td>\n",
       "    </tr>\n",
       "    <tr>\n",
       "      <th>max</th>\n",
       "      <td>99999.000000</td>\n",
       "      <td>102.000000</td>\n",
       "    </tr>\n",
       "  </tbody>\n",
       "</table>\n",
       "</div>"
      ],
      "text/plain": [
       "                  id         events\n",
       "count  100000.000000  100000.000000\n",
       "mean    49999.500000      34.213930\n",
       "std     28867.657797      17.585193\n",
       "min         0.000000       4.000000\n",
       "25%     24999.750000      21.000000\n",
       "50%     49999.500000      29.000000\n",
       "75%     74999.250000      40.000000\n",
       "max     99999.000000     102.000000"
      ]
     },
     "execution_count": 14,
     "metadata": {},
     "output_type": "execute_result"
    }
   ],
   "source": [
    "df.describe()"
   ]
  },
  {
   "cell_type": "code",
   "execution_count": 16,
   "id": "1a6ef47e-0212-48ed-ac85-ca2fb45e2325",
   "metadata": {},
   "outputs": [
    {
     "data": {
      "text/plain": [
       "id         0\n",
       "group      0\n",
       "segment    0\n",
       "events     0\n",
       "dtype: int64"
      ]
     },
     "execution_count": 16,
     "metadata": {},
     "output_type": "execute_result"
    }
   ],
   "source": [
    "df.isnull().sum() # количество пропущенных значений (NaN)"
   ]
  },
  {
   "cell_type": "markdown",
   "id": "c6c07108-31a0-461f-b88d-7fe73e80b8ef",
   "metadata": {},
   "source": [
    "### Описательная статистика: mean, median, sem"
   ]
  },
  {
   "cell_type": "code",
   "execution_count": 19,
   "id": "fb0bdcd4-d763-4ebe-9191-c08afefa8887",
   "metadata": {},
   "outputs": [
    {
     "name": "stdout",
     "output_type": "stream",
     "text": [
      "Группа test: среднее = 40.41, медиана = 35.0, стандартное отклонение (SE) = 0.07188\n"
     ]
    }
   ],
   "source": [
    "# Test\n",
    "test_group = df[df['group'] == 'test']['events']\n",
    "test_mean = test_group.mean()\n",
    "test_median = test_group.median()\n",
    "se_test = stats.sem(test_group)\n",
    "print(f'Группа test: среднее = {test_mean:.2f}, медиана = {test_median}, стандартное отклонение (SE) = {se_test:.5f}')"
   ]
  },
  {
   "cell_type": "code",
   "execution_count": 21,
   "id": "9153ee20-f8cb-4799-9c3a-a2039caa6fb9",
   "metadata": {},
   "outputs": [
    {
     "name": "stdout",
     "output_type": "stream",
     "text": [
      "Группа control: среднее = 28.02, медиана = 21.0, стандартное отклонение (SE) = 0.07529\n"
     ]
    }
   ],
   "source": [
    "# Control\n",
    "control_group = df[df['group'] == 'control']['events']\n",
    "control_mean = control_group.mean()\n",
    "control_median = control_group.median()\n",
    "se_control = stats.sem(control_group)\n",
    "print(f'Группа control: среднее = {control_mean:.2f}, медиана = {control_median}, стандартное отклонение (SE) = {se_control:.5f}')"
   ]
  },
  {
   "cell_type": "code",
   "execution_count": 23,
   "id": "5d65096e-7409-4dce-b49c-95e508f9f0e8",
   "metadata": {},
   "outputs": [
    {
     "name": "stdout",
     "output_type": "stream",
     "text": [
      "Сегмент high: среднее = 64.95, медиана = 65.0, стандартное отклонение (SE) = 0.06731\n"
     ]
    }
   ],
   "source": [
    "# High\n",
    "high = df[df['segment'] == 'high']['events']\n",
    "high_mean = high.mean()\n",
    "high_median = high.median()\n",
    "se_high = stats.sem(high)\n",
    "print(f'Сегмент high: среднее = {high_mean:.2f}, медиана = {high_median}, стандартное отклонение (SE) = {se_high:.5f}')"
   ]
  },
  {
   "cell_type": "code",
   "execution_count": 25,
   "id": "13433889-6c35-4dc6-9bdc-ee4ab3253ac1",
   "metadata": {},
   "outputs": [
    {
     "name": "stdout",
     "output_type": "stream",
     "text": [
      "Сегмент low: среднее = 26.53, медиана = 26.0, стандартное отклонение (SE) = 0.02928\n"
     ]
    }
   ],
   "source": [
    "#Low\n",
    "low = df[df['segment'] == 'low']['events']\n",
    "low_mean = low.mean()\n",
    "low_median = low.median()\n",
    "se_low = stats.sem(low)\n",
    "print(f'Сегмент low: среднее = {low_mean:.2f}, медиана = {low_median}, стандартное отклонение (SE) = {se_low:.5f}')"
   ]
  },
  {
   "cell_type": "markdown",
   "id": "606477ac-849b-4c6e-8082-c650e20e8b81",
   "metadata": {},
   "source": [
    "### Гистограммы"
   ]
  },
  {
   "cell_type": "code",
   "execution_count": 28,
   "id": "98ba1cb2-f381-4a43-9a7f-b21f925f920f",
   "metadata": {},
   "outputs": [
    {
     "data": {
      "image/png": "[encoded data removed]",
      "text/plain": [
       "<Figure size 1000x600 with 1 Axes>"
      ]
     },
     "metadata": {},
     "output_type": "display_data"
    }
   ],
   "source": [
    "plt.figure(figsize=(10, 6))\n",
    "plt.hist(test_group, bins=50, alpha=0.6, label='High', color='green')\n",
    "plt.hist(control_group, bins=50, alpha=0.6, label='Low', color='red')\n",
    "plt.title('Распределение events по группа')\n",
    "plt.xlabel('Значение events')\n",
    "plt.ylabel('Количество наблюдений')\n",
    "plt.legend()\n",
    "plt.grid(True)\n",
    "plt.show()"
   ]
  },
  {
   "cell_type": "code",
   "execution_count": null,
   "id": "e3a56cca-78d7-4e4f-89a5-a73950ddab80",
   "metadata": {},
   "outputs": [],
   "source": []
  },
  {
   "cell_type": "markdown",
   "id": "99ee728a-bf97-4266-9685-0aa17748508d",
   "metadata": {},
   "source": [
    "###Box plots"
   ]
  },
  {
   "cell_type": "markdown",
   "id": "ccbe7b06-2648-4376-8b25-3c2a7d49e1a0",
   "metadata": {},
   "source": [
    "### Box plots"
   ]
  },
  {
   "cell_type": "code",
   "execution_count": 33,
   "id": "298a2a5c-974c-40e3-9080-d3a7894c46f9",
   "metadata": {},
   "outputs": [
    {
     "data": {
      "image/png": "[encoded data removed]",
      "text/plain": [
       "<Figure size 800x600 with 1 Axes>"
      ]
     },
     "metadata": {},
     "output_type": "display_data"
    }
   ],
   "source": [
    "plt.figure(figsize=(8, 6)) # размер \n",
    "sns.boxplot(data=df, x='group', y='events', hue='group', palette='Set2', legend=False)\n",
    "\n",
    "plt.title('Сравнение распределения events по группам')\n",
    "plt.xlabel('Группа')\n",
    "plt.ylabel('Количество событий (events)')\n",
    "plt.grid(True) #  включает сетку\n",
    "plt.show() #Показывает окно с графиком\n"
   ]
  },
  {
   "cell_type": "markdown",
   "id": "1a926dde-2a51-4765-9441-3eddeb9016e5",
   "metadata": {},
   "source": [
    "### P - value"
   ]
  },
  {
   "cell_type": "code",
   "execution_count": 71,
   "id": "08a11cb4-9888-4308-886c-3fa9c6b042cb",
   "metadata": {},
   "outputs": [
    {
     "name": "stderr",
     "output_type": "stream",
     "text": [
      "/opt/anaconda3/lib/python3.12/site-packages/scipy/stats/_axis_nan_policy.py:531: UserWarning: scipy.stats.shapiro: For N > 5000, computed p-value may not be accurate. Current N is 50000.\n",
      "  res = hypotest_fun_out(*samples, **kwds)\n"
     ]
    }
   ],
   "source": [
    "sts_t, pvalue_t = stats.shapiro(test_group)\n",
    "sts_c, pvalue_c = stats.shapiro(control_group)"
   ]
  },
  {
   "cell_type": "code",
   "execution_count": 73,
   "id": "c0d14c21-ad25-442e-bed3-59f38bc7346e",
   "metadata": {},
   "outputs": [
    {
     "data": {
      "text/plain": [
       "1.2434239803071742e-113"
      ]
     },
     "execution_count": 73,
     "metadata": {},
     "output_type": "execute_result"
    }
   ],
   "source": [
    "pvalue_t"
   ]
  },
  {
   "cell_type": "code",
   "execution_count": 75,
   "id": "61d85741-b54c-4de0-9a3a-7775ae58dc0a",
   "metadata": {},
   "outputs": [
    {
     "name": "stdout",
     "output_type": "stream",
     "text": [
      "Нулевая гипотеза отвергается\n"
     ]
    }
   ],
   "source": [
    "if pvalue_t > 0.005:\n",
    "    print('Нет оснований отвергать нулевую гипотезу')\n",
    "else:\n",
    "    print('Нулевая гипотеза отвергается')\n",
    "    "
   ]
  },
  {
   "cell_type": "code",
   "execution_count": 77,
   "id": "5734ddb9-d532-4a18-a6c7-ebdc3574c47d",
   "metadata": {},
   "outputs": [
    {
     "data": {
      "text/plain": [
       "4.511764307942441e-122"
      ]
     },
     "execution_count": 77,
     "metadata": {},
     "output_type": "execute_result"
    }
   ],
   "source": [
    "pvalue_c"
   ]
  },
  {
   "cell_type": "code",
   "execution_count": null,
   "id": "f5d69fac-bc15-46b4-9b89-9cc30967eb50",
   "metadata": {},
   "outputs": [],
   "source": []
  }
 ],
 "metadata": {
  "kernelspec": {
   "display_name": "Python [conda env:base] *",
   "language": "python",
   "name": "conda-base-py"
  },
  "language_info": {
   "codemirror_mode": {
    "name": "ipython",
    "version": 3
   },
   "file_extension": ".py",
   "mimetype": "text/x-python",
   "name": "python",
   "nbconvert_exporter": "python",
   "pygments_lexer": "ipython3",
   "version": "3.12.7"
  }
 },
 "nbformat": 4,
 "nbformat_minor": 5
}
